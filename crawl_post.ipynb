{
 "cells": [
  {
   "cell_type": "code",
   "execution_count": null,
   "id": "8252ee88",
   "metadata": {},
   "outputs": [],
   "source": [
    "import requests\n",
    "from bs4 import BeautifulSoup, Comment\n",
    "import time\n",
    "import base64\n",
    "from urllib.parse import urlparse"
   ]
  },
  {
   "cell_type": "code",
   "execution_count": null,
   "id": "3b6b0299",
   "metadata": {},
   "outputs": [],
   "source": [
    "categories = [\n",
    "    \"https://web.archive.org/web/20241212103517/https://nhipsongthoidai.vn/category/marketing/\",\n",
    "    \"https://web.archive.org/web/20241107135336/https://nhipsongthoidai.vn/category/marketing/page/2/\",\n",
    "    \"https://web.archive.org/web/20241016051900/https://nhipsongthoidai.vn/category/marketing/page/3/\",\n",
    "    \"https://web.archive.org/web/20240913224204/https://nhipsongthoidai.vn/category/tong-hop/\",\n",
    "    \"https://web.archive.org/web/20241107130529/https://nhipsongthoidai.vn/category/tong-hop/page/2/\",\n",
    "    \"https://web.archive.org/web/20241107134744/https://nhipsongthoidai.vn/category/tong-hop/page/3/\",\n",
    "    \"https://web.archive.org/web/20241107142016/https://nhipsongthoidai.vn/category/tong-hop/page/4/\",\n",
    "    \"https://web.archive.org/web/20241107123023/https://nhipsongthoidai.vn/category/tong-hop/page/5/\",\n",
    "    \"https://web.archive.org/web/20230926224332/https://nhipsongthoidai.vn/category/ban-can-biet/\",\n",
    "    \"https://web.archive.org/web/20230201120859/https://nhipsongthoidai.vn/category/ban-can-biet/page/2/\",\n",
    "    \"https://web.archive.org/web/20230201123159/https://nhipsongthoidai.vn/category/ban-can-biet/page/3/\",\n",
    "    \"https://web.archive.org/web/20230201125530/https://nhipsongthoidai.vn/category/ban-can-biet/page/4/\",\n",
    "    \"https://web.archive.org/web/20230201131656/https://nhipsongthoidai.vn/category/ban-can-biet/page/5/\",\n",
    "    \"https://web.archive.org/web/20230321020647/https://nhipsongthoidai.vn/category/khai-thac-su-dung/\"\n",
    "]"
   ]
  },
  {
   "cell_type": "code",
   "execution_count": null,
   "id": "1c935048",
   "metadata": {},
   "outputs": [],
   "source": [
    "post_links = [\n",
    "    a['href']\n",
    "    for url in categories\n",
    "    for a in BeautifulSoup(requests.get(url).text, 'html.parser').select('div.post-item a.plain')\n",
    "]"
   ]
  },
  {
   "cell_type": "code",
   "execution_count": null,
   "id": "2e7b9003",
   "metadata": {},
   "outputs": [],
   "source": [
    "post_links"
   ]
  },
  {
   "cell_type": "code",
   "execution_count": null,
   "id": "547af294",
   "metadata": {},
   "outputs": [],
   "source": [
    "url = post_links[0]\n",
    "\n",
    "response = requests.get(url)\n",
    "response.raise_for_status()\n",
    "\n",
    "soup = BeautifulSoup(response.text, 'html.parser')"
   ]
  },
  {
   "cell_type": "code",
   "execution_count": null,
   "id": "b3fff764",
   "metadata": {},
   "outputs": [],
   "source": [
    "soup"
   ]
  },
  {
   "cell_type": "code",
   "execution_count": null,
   "id": "5b6e8976",
   "metadata": {},
   "outputs": [],
   "source": [
    "og_title_tag = soup.find(\"meta\", property=\"og:title\")"
   ]
  },
  {
   "cell_type": "code",
   "execution_count": null,
   "id": "26450b11",
   "metadata": {},
   "outputs": [],
   "source": [
    "og_title_tag"
   ]
  },
  {
   "cell_type": "code",
   "execution_count": null,
   "id": "8ddcffeb",
   "metadata": {},
   "outputs": [],
   "source": [
    "og_title = og_title_tag[\"content\"] if og_title_tag else None"
   ]
  },
  {
   "cell_type": "code",
   "execution_count": null,
   "id": "9927aae9",
   "metadata": {},
   "outputs": [],
   "source": [
    "og_title"
   ]
  },
  {
   "cell_type": "code",
   "execution_count": null,
   "id": "089f1106",
   "metadata": {},
   "outputs": [],
   "source": [
    "featured_img = soup.find(\"meta\", property=\"og:image\")\n",
    "featured_img"
   ]
  },
  {
   "cell_type": "code",
   "execution_count": null,
   "id": "10460a82",
   "metadata": {},
   "outputs": [],
   "source": [
    "featured_img['content']"
   ]
  },
  {
   "cell_type": "code",
   "execution_count": null,
   "id": "3452eb88",
   "metadata": {},
   "outputs": [],
   "source": [
    "content_div = soup.select_one(\"div.entry-content.single-page\")\n",
    "content_div"
   ]
  },
  {
   "cell_type": "code",
   "execution_count": null,
   "id": "a7601ac4",
   "metadata": {},
   "outputs": [],
   "source": [
    "for div in content_div.find_all(\"div\", class_=[\"code-block\", \"blog-share\"]):\n",
    "    div.decompose()"
   ]
  },
  {
   "cell_type": "code",
   "execution_count": null,
   "id": "ff3f83e3",
   "metadata": {},
   "outputs": [],
   "source": [
    "content_div"
   ]
  },
  {
   "cell_type": "code",
   "execution_count": null,
   "id": "e1c2bebb",
   "metadata": {},
   "outputs": [],
   "source": [
    "for p in content_div.find_all(\"p\"):\n",
    "    if p.find(\"script\"):\n",
    "        p.decompose()"
   ]
  },
  {
   "cell_type": "code",
   "execution_count": null,
   "id": "e142d5b1",
   "metadata": {},
   "outputs": [],
   "source": [
    "content_div"
   ]
  },
  {
   "cell_type": "code",
   "execution_count": null,
   "id": "5ca4ed64",
   "metadata": {},
   "outputs": [],
   "source": [
    "for comment in content_div.find_all(string=lambda text: isinstance(text, Comment)):\n",
    "    comment.extract()"
   ]
  },
  {
   "cell_type": "code",
   "execution_count": null,
   "id": "a033eb16",
   "metadata": {},
   "outputs": [],
   "source": [
    "content_div"
   ]
  },
  {
   "cell_type": "code",
   "execution_count": null,
   "id": "88bc5a92",
   "metadata": {},
   "outputs": [],
   "source": [
    "content_inner_html = content_div.decode_contents()"
   ]
  },
  {
   "cell_type": "code",
   "execution_count": null,
   "id": "86f0ad36",
   "metadata": {},
   "outputs": [],
   "source": [
    "content_inner_html"
   ]
  },
  {
   "cell_type": "code",
   "execution_count": null,
   "id": "15057822",
   "metadata": {},
   "outputs": [],
   "source": [
    "def scrape_post_data(url):\n",
    "    response = requests.get(url)\n",
    "    response.raise_for_status()\n",
    "    soup = BeautifulSoup(response.text, \"html.parser\")\n",
    "\n",
    "    content_title = soup.select_one(\"h1.entry-title\")\n",
    "    og_title_tag = soup.find(\"meta\", property=\"og:title\")\n",
    "    title = content_title.get_text(strip=True) if content_title else og_title_tag[\"content\"]\n",
    "\n",
    "    og_url_tag = soup.find(\"meta\", property=\"og:url\")\n",
    "    source_url = og_url_tag[\"content\"] if og_url_tag else url\n",
    "\n",
    "    og_image_tag = soup.find(\"meta\", property=\"og:image\")\n",
    "    featured_img = og_image_tag[\"content\"] if og_image_tag else None\n",
    "\n",
    "    content_div = soup.select_one(\"div.entry-content.single-page\")\n",
    "\n",
    "    for div in content_div.find_all(\"div\", class_=[\"code-block\", \"blog-share\"]):\n",
    "        div.decompose()\n",
    "    \n",
    "    for p in content_div.find_all(\"p\"):\n",
    "        if p.find(\"script\"):\n",
    "            p.decompose()\n",
    "\n",
    "    for comment in content_div.find_all(string=lambda text: isinstance(text, Comment)):\n",
    "        comment.extract()\n",
    "\n",
    "    content_html = content_div.decode_contents()\n",
    "    clean_html = content_html.replace(\"\\n\", \"\")\n",
    "    clean_html = clean_html.replace(\"\\xa0\", \" \")\n",
    "\n",
    "    return {\n",
    "        \"title\": title,\n",
    "        \"featured_img\": featured_img,\n",
    "        \"content_html\": clean_html,\n",
    "        \"url\": source_url\n",
    "    }"
   ]
  },
  {
   "cell_type": "code",
   "execution_count": null,
   "id": "a5b6173c",
   "metadata": {},
   "outputs": [],
   "source": [
    "def safe_scrape(url):\n",
    "    try:\n",
    "        time.sleep(10)\n",
    "        return scrape_post_data(url)\n",
    "    except Exception as e:\n",
    "        return {\"error\": str(e), \"url\": url}"
   ]
  },
  {
   "cell_type": "code",
   "execution_count": null,
   "id": "246d8591",
   "metadata": {},
   "outputs": [],
   "source": [
    "test = list(map(safe_scrape, post_links))"
   ]
  },
  {
   "cell_type": "code",
   "execution_count": null,
   "id": "455dff22",
   "metadata": {},
   "outputs": [],
   "source": [
    "test"
   ]
  },
  {
   "cell_type": "code",
   "execution_count": null,
   "id": "88e9738f",
   "metadata": {},
   "outputs": [],
   "source": [
    "WP_URL_POST = \"https://nhipsongthoidai.vn/wp-json/wp/v2/posts\"\n",
    "WP_URL_MEDIA = \"https://nhipsongthoidai.vn/wp-json/wp/v2/media\"\n",
    "WP_URL = \"https://nhipsongthoidai.vn\"\n",
    "USERNAME = \"nstt\"\n",
    "PASSWORD = \"\""
   ]
  },
  {
   "cell_type": "code",
   "execution_count": null,
   "id": "0c470f33",
   "metadata": {},
   "outputs": [],
   "source": [
    "token = base64.b64encode(f\"{USERNAME}:{PASSWORD}\".encode())\n",
    "headers = {'Authorization': f'Basic {token.decode(\"utf-8\")}'}"
   ]
  },
  {
   "cell_type": "code",
   "execution_count": null,
   "id": "255b9f3b",
   "metadata": {},
   "outputs": [],
   "source": [
    "def upload_image(image_url, for_content=False):\n",
    "    print(f\"Uploading image: {image_url}\")\n",
    "    try:    \n",
    "        image_data = requests.get(image_url, timeout=120).content\n",
    "        filename = image_url.split(\"/\")[-1]\n",
    "        files = {'file': (filename, image_data)}\n",
    "        response = requests.post(WP_URL_MEDIA, headers=headers, files=files)\n",
    "        if response.status_code == 201:\n",
    "            json_data = response.json()\n",
    "            if for_content:\n",
    "                return json_data['source_url']\n",
    "            else:\n",
    "                return json_data['id']\n",
    "    except Exception as e:\n",
    "        print(f\"Error uploading image {image_url}: {e}\")\n",
    "    time.sleep(10)\n",
    "    return None\n"
   ]
  },
  {
   "cell_type": "code",
   "execution_count": null,
   "id": "641152d2",
   "metadata": {},
   "outputs": [],
   "source": [
    "def process_content_html(content_html):\n",
    "    soup = BeautifulSoup(content_html, \"html.parser\")\n",
    "\n",
    "    for img_tag in soup.find_all(\"img\"):\n",
    "        img_url = img_tag.get(\"data-src\") or img_tag.get(\"src\")\n",
    "        if img_url:\n",
    "            wp_url = upload_image(img_url, for_content=True)\n",
    "            if wp_url:\n",
    "                img_tag[\"src\"] = wp_url\n",
    "                for attr in [\"data-src\", \"data-srcset\", \"srcset\"]:\n",
    "                    img_tag.attrs.pop(attr, None)\n",
    "            else:\n",
    "                figure_tag = img_tag.find_parent(\"figure\")\n",
    "                if figure_tag:\n",
    "                    figure_tag.decompose()\n",
    "                else:\n",
    "                    img_tag.decompose()\n",
    "        time.sleep(10)\n",
    "\n",
    "    for a_tag in soup.find_all(\"a\", href=True):\n",
    "        href = a_tag[\"href\"]\n",
    "        if href.startswith(\"https://web.archive.org/web/\"):\n",
    "            parts = href.split(\"/\", 5)\n",
    "            if len(parts) >= 6:\n",
    "                real_url = parts[5]\n",
    "                if not real_url.startswith(\"http\"):\n",
    "                    real_url = \"https://\" + real_url\n",
    "                a_tag[\"href\"] = real_url\n",
    "\n",
    "    return str(soup)"
   ]
  },
  {
   "cell_type": "code",
   "execution_count": null,
   "id": "b670b085",
   "metadata": {},
   "outputs": [],
   "source": [
    "def extract_slug_from_url(url):\n",
    "    real_url = url.split(\"https://\")[-1] \n",
    "    real_url = \"https://\" + real_url\n",
    "\n",
    "    path = urlparse(real_url).path\n",
    "\n",
    "    slug = path.strip(\"/\").split(\"/\")[-1]\n",
    "\n",
    "    return slug"
   ]
  },
  {
   "cell_type": "code",
   "execution_count": null,
   "id": "6751b034",
   "metadata": {},
   "outputs": [],
   "source": [
    "def create_post(title, content, image_url, category_id, source_url=None):\n",
    "    image_id = upload_image(image_url, for_content=False)\n",
    "\n",
    "    slug = None\n",
    "    if source_url:\n",
    "        slug = extract_slug_from_url(source_url)\n",
    "\n",
    "    post_data = {\n",
    "        \"title\": title,\n",
    "        \"content\": content,\n",
    "        \"status\": \"publish\",\n",
    "        \"categories\": [category_id]\n",
    "    }\n",
    "    if image_id:\n",
    "        post_data[\"featured_media\"] = image_id\n",
    "    if slug:\n",
    "        post_data[\"slug\"] = slug \n",
    "\n",
    "    response = requests.post(WP_URL_POST, headers=headers, json=post_data)\n",
    "    if response.status_code == 201:\n",
    "        print(f\"Post '{title}' created successfully with slug '{slug}'!\\n\")\n",
    "        return True\n",
    "    else:\n",
    "        print(f\"Failed to create post '{title}': {response.status_code}, {response.text}\\n\")\n",
    "        return False"
   ]
  },
  {
   "cell_type": "code",
   "execution_count": null,
   "id": "3b1e938f",
   "metadata": {},
   "outputs": [],
   "source": [
    "for item in test:\n",
    "    if item.get(\"error\"):\n",
    "        print(f\"Skipped {item['url']} due to error: {item['error']}\")\n",
    "        continue\n",
    "    \n",
    "    content = process_content_html(item[\"content_html\"])\n",
    "    create_post(\n",
    "        title=item[\"title\"],\n",
    "        content=content,\n",
    "        image_url=item[\"featured_img\"],\n",
    "        category_id=2,\n",
    "        source_url=item[\"url\"]\n",
    "    )\n",
    "    time.sleep(10)"
   ]
  }
 ],
 "metadata": {
  "kernelspec": {
   "display_name": ".venv (3.13.5)",
   "language": "python",
   "name": "python3"
  },
  "language_info": {
   "codemirror_mode": {
    "name": "ipython",
    "version": 3
   },
   "file_extension": ".py",
   "mimetype": "text/x-python",
   "name": "python",
   "nbconvert_exporter": "python",
   "pygments_lexer": "ipython3",
   "version": "3.13.5"
  }
 },
 "nbformat": 4,
 "nbformat_minor": 5
}
